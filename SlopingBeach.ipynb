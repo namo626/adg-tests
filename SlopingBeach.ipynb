{
 "cells": [
  {
   "cell_type": "markdown",
   "id": "feffd9ec-ce81-437e-8811-ab2662b5a3b2",
   "metadata": {},
   "source": [
    "# Sloping Beach test case\n",
    "\n",
    "The DG-CG code suffers from oscillations which appear to follow the orientation of the mesh. We will plot the cross-section elevation over time and see where the oscillation originates.\n",
    "\n",
    "The current configuration is 7 cells wide, with numbering as follows:\n",
    "\n",
    "\n",
    "| | | | | | |\n",
    "|---|---|---|---|---|---|\n",
    "| 2 | 72 | 142 | 212 | ... | 492 |\n",
    "| 1  | 71 | 141 | 211 | ... | 491 |\n",
    "\n",
    "In other words, the increment is 70 along a row, and 1 along a column.\n",
    "\n",
    "To generate this mesh, run\n",
    "\n",
    "    python slopingbeach.py 10000 fort.14\n",
    "\n",
    "and then rename `fort.14.15` to `fort.15`."
   ]
  },
  {
   "cell_type": "markdown",
   "id": "4c05d215-553b-4b8c-86f2-64890e3151d4",
   "metadata": {},
   "source": [
    "## Extracting data from fort.63\n"
   ]
  },
  {
   "cell_type": "code",
   "execution_count": 97,
   "id": "c2ca5079-fcb8-4218-ace9-98f7e25db2d0",
   "metadata": {},
   "outputs": [],
   "source": [
    "import pandas as pd\n",
    "import numpy as np\n",
    "import matplotlib.pyplot as plt\n",
    "import matplotlib.animation as animation\n",
    "# %matplotlib widget\n",
    "\n",
    "\n",
    "row = 2\n",
    "col = 211\n",
    "NP = 560 # no. of nodes\n",
    "N = 8 # no. of nodes in the x-direction\n",
    "M = 70 # no. of nodes in the y-direction\n",
    "cross_nodes = [row + M*i for i in range(0,N)]\n",
    "y_nodes = [col + i for i in range(M)]\n",
    "\n",
    "\n",
    "def read_63(fname, nodes):\n",
    "    df = pd.read_csv(fname, skiprows=2, delim_whitespace=True, index_col=False, header=None, names=list('abc'))\n",
    "    # drop the timestamps\n",
    "    ts = list(filter(lambda x: (x % (NP+1) == 0), range(df.shape[0])))\n",
    "    df = df.drop(ts)\n",
    "    df.iloc[:,0] = df.iloc[:,0].astype(int)\n",
    "    cross_elev = df.loc[df.iloc[:,0].isin(nodes)]\n",
    "    cross_elev.iloc[:,0] = cross_elev.iloc[:,0].astype(int)\n",
    "    return cross_elev.iloc[:,1].values\n",
    "\n",
    "\n",
    "elev_adg = read_63('Beach/fort.63.coupling', cross_nodes)\n",
    "elev_adc = read_63('Beach/fort.63.adc', cross_nodes)\n",
    "u_adg = read_63('Beach/fort.64.coupling', cross_nodes)\n",
    "u_adc = read_63('Beach/fort.64.adc', cross_nodes)\n",
    "\n",
    "y_adg = read_63('Beach/fort.63.coupling', y_nodes)\n",
    "y_adc = read_63('Beach/fort.63.adc', y_nodes)\n"
   ]
  },
  {
   "cell_type": "code",
   "execution_count": 64,
   "id": "d22378dc-42b2-4763-9791-35996323bb8f",
   "metadata": {},
   "outputs": [
    {
     "data": {
      "text/plain": [
       "a    560.0\n",
       "b      0.0\n",
       "c      NaN\n",
       "Name: 560, dtype: float64"
      ]
     },
     "execution_count": 64,
     "metadata": {},
     "output_type": "execute_result"
    }
   ],
   "source": [
    "df = pd.read_csv('Beach/fort.63.coupling', skiprows=2, delim_whitespace=True, index_col=False, header=None, names=list('abc'))\n",
    "df.iloc[NP,:]"
   ]
  },
  {
   "cell_type": "code",
   "execution_count": 65,
   "id": "6da637c6-0458-4b75-9471-eb934d75c42f",
   "metadata": {},
   "outputs": [
    {
     "data": {
      "text/html": [
       "<div>\n",
       "<style scoped>\n",
       "    .dataframe tbody tr th:only-of-type {\n",
       "        vertical-align: middle;\n",
       "    }\n",
       "\n",
       "    .dataframe tbody tr th {\n",
       "        vertical-align: top;\n",
       "    }\n",
       "\n",
       "    .dataframe thead th {\n",
       "        text-align: right;\n",
       "    }\n",
       "</style>\n",
       "<table border=\"1\" class=\"dataframe\">\n",
       "  <thead>\n",
       "    <tr style=\"text-align: right;\">\n",
       "      <th></th>\n",
       "      <th>a</th>\n",
       "      <th>b</th>\n",
       "      <th>c</th>\n",
       "    </tr>\n",
       "  </thead>\n",
       "  <tbody>\n",
       "    <tr>\n",
       "      <th>1</th>\n",
       "      <td>1.0</td>\n",
       "      <td>7.353913e-02</td>\n",
       "      <td>NaN</td>\n",
       "    </tr>\n",
       "    <tr>\n",
       "      <th>2</th>\n",
       "      <td>2.0</td>\n",
       "      <td>2.465178e-02</td>\n",
       "      <td>NaN</td>\n",
       "    </tr>\n",
       "    <tr>\n",
       "      <th>3</th>\n",
       "      <td>3.0</td>\n",
       "      <td>0.000000e+00</td>\n",
       "      <td>NaN</td>\n",
       "    </tr>\n",
       "    <tr>\n",
       "      <th>4</th>\n",
       "      <td>4.0</td>\n",
       "      <td>0.000000e+00</td>\n",
       "      <td>NaN</td>\n",
       "    </tr>\n",
       "    <tr>\n",
       "      <th>5</th>\n",
       "      <td>5.0</td>\n",
       "      <td>0.000000e+00</td>\n",
       "      <td>NaN</td>\n",
       "    </tr>\n",
       "    <tr>\n",
       "      <th>...</th>\n",
       "      <td>...</td>\n",
       "      <td>...</td>\n",
       "      <td>...</td>\n",
       "    </tr>\n",
       "    <tr>\n",
       "      <th>56095</th>\n",
       "      <td>556.0</td>\n",
       "      <td>4.063393e-79</td>\n",
       "      <td>NaN</td>\n",
       "    </tr>\n",
       "    <tr>\n",
       "      <th>56096</th>\n",
       "      <td>557.0</td>\n",
       "      <td>4.094753e-81</td>\n",
       "      <td>NaN</td>\n",
       "    </tr>\n",
       "    <tr>\n",
       "      <th>56097</th>\n",
       "      <td>558.0</td>\n",
       "      <td>3.907707e-83</td>\n",
       "      <td>NaN</td>\n",
       "    </tr>\n",
       "    <tr>\n",
       "      <th>56098</th>\n",
       "      <td>559.0</td>\n",
       "      <td>3.528034e-85</td>\n",
       "      <td>NaN</td>\n",
       "    </tr>\n",
       "    <tr>\n",
       "      <th>56099</th>\n",
       "      <td>560.0</td>\n",
       "      <td>8.967763e-87</td>\n",
       "      <td>NaN</td>\n",
       "    </tr>\n",
       "  </tbody>\n",
       "</table>\n",
       "<p>56000 rows × 3 columns</p>\n",
       "</div>"
      ],
      "text/plain": [
       "           a             b   c\n",
       "1        1.0  7.353913e-02 NaN\n",
       "2        2.0  2.465178e-02 NaN\n",
       "3        3.0  0.000000e+00 NaN\n",
       "4        4.0  0.000000e+00 NaN\n",
       "5        5.0  0.000000e+00 NaN\n",
       "...      ...           ...  ..\n",
       "56095  556.0  4.063393e-79 NaN\n",
       "56096  557.0  4.094753e-81 NaN\n",
       "56097  558.0  3.907707e-83 NaN\n",
       "56098  559.0  3.528034e-85 NaN\n",
       "56099  560.0  8.967763e-87 NaN\n",
       "\n",
       "[56000 rows x 3 columns]"
      ]
     },
     "execution_count": 65,
     "metadata": {},
     "output_type": "execute_result"
    }
   ],
   "source": [
    "ts = list(filter(lambda x: (x % (NP+1) == 0), range(df.shape[0])))\n",
    "df = df.drop(ts)\n",
    "df"
   ]
  },
  {
   "cell_type": "code",
   "execution_count": 66,
   "id": "f60a30f7-f45a-4bf9-a74c-5ca13fdb1c09",
   "metadata": {},
   "outputs": [
    {
     "data": {
      "text/plain": [
       "a    1.00000\n",
       "b    0.13412\n",
       "c        NaN\n",
       "Name: 562, dtype: float64"
      ]
     },
     "execution_count": 66,
     "metadata": {},
     "output_type": "execute_result"
    }
   ],
   "source": [
    "df.iloc[NP,:]"
   ]
  },
  {
   "cell_type": "code",
   "execution_count": 67,
   "id": "6d862d2e-df65-4114-b548-be6b44435fab",
   "metadata": {},
   "outputs": [],
   "source": [
    "cross_elev = df.loc[df.iloc[:,0].isin(y_nodes)]\n",
    "cross_elev.iloc[:,0] = cross_elev.iloc[:,0].astype(int)"
   ]
  },
  {
   "cell_type": "code",
   "execution_count": 69,
   "id": "93f0ba47-6e64-475b-b2e1-a6ce1c8ff62e",
   "metadata": {},
   "outputs": [
    {
     "data": {
      "text/plain": [
       "a    71.000000\n",
       "b     0.091992\n",
       "c          NaN\n",
       "Name: 632, dtype: float64"
      ]
     },
     "execution_count": 69,
     "metadata": {},
     "output_type": "execute_result"
    }
   ],
   "source": [
    "cross_elev.iloc[70,:]"
   ]
  },
  {
   "cell_type": "markdown",
   "id": "5182c16f-f4d5-4edc-acd5-a420e6d6238e",
   "metadata": {},
   "source": [
    "## Animation"
   ]
  },
  {
   "cell_type": "markdown",
   "id": "f879bc68-caec-4151-8005-80d96d1a2306",
   "metadata": {
    "jp-MarkdownHeadingCollapsed": true
   },
   "source": [
    "### Player Class"
   ]
  },
  {
   "cell_type": "code",
   "execution_count": 2,
   "id": "ffc450b9-6a16-452c-bba5-a1877df51604",
   "metadata": {},
   "outputs": [],
   "source": [
    "import numpy as np\n",
    "import matplotlib.pyplot as plt\n",
    "from matplotlib.animation import FuncAnimation\n",
    "import mpl_toolkits.axes_grid1\n",
    "import matplotlib.widgets\n",
    "\n",
    "class Player(FuncAnimation):\n",
    "    def __init__(self, fig, func, frames=None, init_func=None, fargs=None,\n",
    "                 save_count=None, mini=0, maxi=100, pos=(0.125, 0.92), **kwargs):\n",
    "        self.i = 0\n",
    "        self.min=mini\n",
    "        self.max=maxi\n",
    "        self.runs = True\n",
    "        self.forwards = True\n",
    "        self.fig = fig\n",
    "        self.func = func\n",
    "        self.setup(pos)\n",
    "        FuncAnimation.__init__(self,self.fig, self.update, frames=self.play(), \n",
    "                                           init_func=init_func, fargs=fargs,\n",
    "                                           save_count=save_count, **kwargs )    \n",
    "\n",
    "    def play(self):\n",
    "        while self.runs:\n",
    "            self.i = self.i+self.forwards-(not self.forwards)\n",
    "            if self.i > self.min and self.i < self.max:\n",
    "                yield self.i\n",
    "            else:\n",
    "                self.stop()\n",
    "                yield self.i\n",
    "\n",
    "    def start(self):\n",
    "        self.runs=True\n",
    "        self.event_source.start()\n",
    "\n",
    "    def stop(self, event=None):\n",
    "        self.runs = False\n",
    "        self.event_source.stop()\n",
    "\n",
    "    def forward(self, event=None):\n",
    "        self.forwards = True\n",
    "        self.start()\n",
    "    def backward(self, event=None):\n",
    "        self.forwards = False\n",
    "        self.start()\n",
    "    def oneforward(self, event=None):\n",
    "        self.forwards = True\n",
    "        self.onestep()\n",
    "    def onebackward(self, event=None):\n",
    "        self.forwards = False\n",
    "        self.onestep()\n",
    "\n",
    "    def onestep(self):\n",
    "        if self.i > self.min and self.i < self.max:\n",
    "            self.i = self.i+self.forwards-(not self.forwards)\n",
    "        elif self.i == self.min and self.forwards:\n",
    "            self.i+=1\n",
    "        elif self.i == self.max and not self.forwards:\n",
    "            self.i-=1\n",
    "        self.func(self.i)\n",
    "        self.slider.set_val(self.i)\n",
    "        self.fig.canvas.draw_idle()\n",
    "\n",
    "    def setup(self, pos):\n",
    "        playerax = self.fig.add_axes([pos[0],pos[1], 0.64, 0.04])\n",
    "        divider = mpl_toolkits.axes_grid1.make_axes_locatable(playerax)\n",
    "        bax = divider.append_axes(\"right\", size=\"80%\", pad=0.05)\n",
    "        sax = divider.append_axes(\"right\", size=\"80%\", pad=0.05)\n",
    "        fax = divider.append_axes(\"right\", size=\"80%\", pad=0.05)\n",
    "        ofax = divider.append_axes(\"right\", size=\"100%\", pad=0.05)\n",
    "        sliderax = divider.append_axes(\"right\", size=\"500%\", pad=0.07)\n",
    "        self.button_oneback = matplotlib.widgets.Button(playerax, label='$\\u29CF$')\n",
    "        self.button_back = matplotlib.widgets.Button(bax, label='$\\u25C0$')\n",
    "        self.button_stop = matplotlib.widgets.Button(sax, label='$\\u25A0$')\n",
    "        self.button_forward = matplotlib.widgets.Button(fax, label='$\\u25B6$')\n",
    "        self.button_oneforward = matplotlib.widgets.Button(ofax, label='$\\u29D0$')\n",
    "        self.button_oneback.on_clicked(self.onebackward)\n",
    "        self.button_back.on_clicked(self.backward)\n",
    "        self.button_stop.on_clicked(self.stop)\n",
    "        self.button_forward.on_clicked(self.forward)\n",
    "        self.button_oneforward.on_clicked(self.oneforward)\n",
    "        self.slider = matplotlib.widgets.Slider(sliderax, '', \n",
    "                                                self.min, self.max, valinit=self.i)\n",
    "        self.slider.on_changed(self.set_pos)\n",
    "\n",
    "    def set_pos(self,i):\n",
    "        self.i = int(self.slider.val)\n",
    "        self.func(self.i)\n",
    "\n",
    "    def update(self,i):\n",
    "        self.slider.set_val(i)\n",
    "\n"
   ]
  },
  {
   "cell_type": "markdown",
   "id": "eb226a8d-6d90-4461-b8df-67315045490d",
   "metadata": {
    "jp-MarkdownHeadingCollapsed": true
   },
   "source": [
    "### Animating the sloping beach - Horizontal profile"
   ]
  },
  {
   "cell_type": "code",
   "execution_count": 76,
   "id": "85fd478a-4418-4e19-93b8-b0f2604e0962",
   "metadata": {},
   "outputs": [
    {
     "data": {
      "application/vnd.jupyter.widget-view+json": {
       "model_id": "90da537063414b97a806baadab142162",
       "version_major": 2,
       "version_minor": 0
      },
      "image/png": "[encoded data removed]",
      "text/html": [
       "\n",
       "            <div style=\"display: inline-block;\">\n",
       "                <div class=\"jupyter-widgets widget-label\" style=\"text-align: center;\">\n",
       "                    Figure\n",
       "                </div>\n",
       "                <img src='data:image/png;base64,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' width=900.0/>\n",
       "            </div>\n",
       "        "
      ],
      "text/plain": [
       "Canvas(toolbar=Toolbar(toolitems=[('Home', 'Reset original view', 'home', 'home'), ('Back', 'Back to previous …"
      ]
     },
     "metadata": {},
     "output_type": "display_data"
    }
   ],
   "source": [
    "\n",
    "frame = 0\n",
    "fig, (ax1, ax2) = plt.subplots(1, 2, figsize=(9,5))\n",
    "line1, = ax1.plot(cross_nodes, elev_adg[frame*8:8*(frame+1)], label='DG-CG')\n",
    "line2, = ax2.plot(cross_nodes, u_adg[frame*8:8*(frame+1)], label='DG-CG')\n",
    "line11, = ax1.plot(cross_nodes, elev_adc[frame*8:8*(frame+1)], label='ADCIRC')\n",
    "line21, = ax2.plot(cross_nodes, u_adc[frame*8:8*(frame+1)], label='ADCIRC')\n",
    "\n",
    "plt.legend()\n",
    "\n",
    "ax1.set_ylim(min(elev_adc), max(elev_adc))\n",
    "ax2.set_ylim(min(u_adg), max(u_adg))\n",
    "\n",
    "\n",
    "def update(frame):\n",
    "    #ax.set_ylim(min(y), max(y))\n",
    "    line1.set_ydata(elev_adg[frame*8:frame*8+8])\n",
    "    line2.set_ydata(u_adg[frame*8:frame*8+8])\n",
    "    line11.set_ydata(elev_adc[frame*8:frame*8+8])\n",
    "    line21.set_ydata(u_adc[frame*8:frame*8+8])\n",
    "\n",
    "    return line\n",
    "\n",
    "ani = Player(fig, update, maxi=200, interval=100)\n",
    "\n",
    "#ani = animation.FuncAnimation(fig=fig, func=update, frames=1, interval=30, repeat=False)\n",
    "plt.show()"
   ]
  },
  {
   "cell_type": "markdown",
   "id": "6990ee9c-0b45-49d5-9d79-7a4eba5771ce",
   "metadata": {
    "jp-MarkdownHeadingCollapsed": true
   },
   "source": [
    "### Vertical profile"
   ]
  },
  {
   "cell_type": "code",
   "execution_count": 80,
   "id": "1296ad41-9fae-4bb7-a9de-97a21d0e4acb",
   "metadata": {},
   "outputs": [
    {
     "data": {
      "application/vnd.jupyter.widget-view+json": {
       "model_id": "9d2a843ead384d20994800ec80e6e766",
       "version_major": 2,
       "version_minor": 0
      },
      "image/png": "[encoded data removed]",
      "text/html": [
       "\n",
       "            <div style=\"display: inline-block;\">\n",
       "                <div class=\"jupyter-widgets widget-label\" style=\"text-align: center;\">\n",
       "                    Figure\n",
       "                </div>\n",
       "                <img src='data:image/png;base64,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' width=640.0/>\n",
       "            </div>\n",
       "        "
      ],
      "text/plain": [
       "Canvas(toolbar=Toolbar(toolitems=[('Home', 'Reset original view', 'home', 'home'), ('Back', 'Back to previous …"
      ]
     },
     "metadata": {},
     "output_type": "display_data"
    }
   ],
   "source": [
    "\n",
    "frame = 0\n",
    "fig, ax1 = plt.subplots()\n",
    "line11, = ax1.plot(y_nodes, y_adc[frame*M:M*(frame+1)], label='ADCIRC', linewidth=0.5)\n",
    "line1, = ax1.plot(y_nodes, y_adg[frame*M:M*(frame+1)], label='DG-CG')\n",
    "\n",
    "plt.legend()\n",
    "\n",
    "ax1.set_ylim(min(y_adc), max(y_adc)+.5)\n",
    "\n",
    "\n",
    "def update(frame):\n",
    "    #ax.set_ylim(min(y), max(y))\n",
    "    line1.set_ydata(y_adg[frame*M:frame*M+M])\n",
    "    line11.set_ydata(y_adc[frame*M:frame*M+M])\n",
    "\n",
    "    return line\n",
    "\n",
    "ani = Player(fig, update, maxi=200, interval=100)\n",
    "\n",
    "#ani = animation.FuncAnimation(fig=fig, func=update, frames=1, interval=30, repeat=False)\n",
    "plt.show()"
   ]
  },
  {
   "cell_type": "markdown",
   "id": "02d49f23-0121-4394-a0dd-3c336c6cd172",
   "metadata": {},
   "source": [
    "### Plotting function"
   ]
  },
  {
   "cell_type": "code",
   "execution_count": 100,
   "id": "279375e2-7e43-4825-a344-0af9c1bf146f",
   "metadata": {},
   "outputs": [
    {
     "data": {
      "application/vnd.jupyter.widget-view+json": {
       "model_id": "663dca4f892743969a510577f8d9482b",
       "version_major": 2,
       "version_minor": 0
      },
      "text/plain": [
       "interactive(children=(IntSlider(value=0, description='frame', max=539), Output()), _dom_classes=('widget-inter…"
      ]
     },
     "metadata": {},
     "output_type": "display_data"
    },
    {
     "data": {
      "text/plain": [
       "<function __main__.make_plot_function.<locals>.f(frame=0)>"
      ]
     },
     "execution_count": 100,
     "metadata": {},
     "output_type": "execute_result"
    }
   ],
   "source": [
    "from ipywidgets import interact\n",
    "import ipywidgets as widgets\n",
    "%matplotlib inline\n",
    "\n",
    "def make_plot_function():\n",
    "\n",
    "    def f(frame=0):\n",
    "        fig, ax1 = plt.subplots()\n",
    "        ax1.set_ylim(min(y_adc), max(y_adc)+.1)\n",
    "\n",
    "        line11, = ax1.plot(y_nodes, y_adc[frame*M:M*(frame+1)], label='ADCIRC', linewidth=0.5)\n",
    "        #line1, = ax1.plot(y_nodes, y_adg[frame*M:M*(frame+1)], label='DG-CG')\n",
    "\n",
    "        plt.xlabel('Node')\n",
    "        plt.ylabel('Water elevation (m)')\n",
    "        plt.title('Sloping beach: y-direction profile')\n",
    "\n",
    "        plt.legend()\n",
    "        plt.show()\n",
    "        \n",
    "    return f\n",
    "\n",
    "interact(make_plot_function(), frame=widgets.IntSlider(min=0, max=int(len(y_adc)/len(y_nodes))-1, step=1, value=0))"
   ]
  },
  {
   "cell_type": "code",
   "execution_count": 74,
   "id": "edb5b735-732e-4750-a566-cad642ecb55e",
   "metadata": {},
   "outputs": [
    {
     "data": {
      "text/plain": [
       "7.811847271e-83"
      ]
     },
     "execution_count": 74,
     "metadata": {},
     "output_type": "execute_result"
    }
   ],
   "source": [
    "y_adg[-1]"
   ]
  },
  {
   "cell_type": "code",
   "execution_count": null,
   "id": "f7ce1e43-60f8-4cfa-bffa-79381c658ead",
   "metadata": {},
   "outputs": [],
   "source": []
  }
 ],
 "metadata": {
  "kernelspec": {
   "display_name": "Python 3 (ipykernel)",
   "language": "python",
   "name": "python3"
  },
  "language_info": {
   "codemirror_mode": {
    "name": "ipython",
    "version": 3
   },
   "file_extension": ".py",
   "mimetype": "text/x-python",
   "name": "python",
   "nbconvert_exporter": "python",
   "pygments_lexer": "ipython3",
   "version": "3.9.18"
  }
 },
 "nbformat": 4,
 "nbformat_minor": 5
}
